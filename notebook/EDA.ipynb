{
 "cells": [
  {
   "cell_type": "markdown",
   "id": "5a75bf52-6dd4-4b49-8af5-c06fedeb85ac",
   "metadata": {},
   "source": [
    "# STUDENT PERFORMANCE INDICATOR\n",
    "\n",
    "## LIFE CYCLE OF MACHINE LEARNING PROJECT\n",
    "\n",
    "* Understanding the Problem Statement\n",
    "* Data Collection\n",
    "* Data checks to perform\n",
    "* Exploratory Data Analysis\n",
    "* Data Pre-Processing\n",
    "* Model Training\n",
    "* Choose the Best Model"
   ]
  },
  {
   "cell_type": "markdown",
   "id": "718d9bd9-757b-47d3-a925-188499bff0db",
   "metadata": {},
   "source": [
    "## 1. PROBLEM STATEMENT\n",
    "\n",
    "*  To understand the how the student performance (test scores) is affected by other variables such as Gender, Ethinicity, Parental level of Education, test preparation courses."
   ]
  },
  {
   "cell_type": "markdown",
   "id": "0ac7cb1a-c3f1-4fed-946e-138f5068407c",
   "metadata": {},
   "source": [
    "## 2. DATA COLLECTION\n",
    "\n",
    "* Data Source: https://www.kaggle.com/datasets/spscientist/students-performance-in-exams?datasetId=74977\n",
    "* Dataset contains 8 columns and 1000 rows\n"
   ]
  },
  {
   "cell_type": "markdown",
   "id": "482797d9-ee2d-4a09-84b2-3c5c7ce6aabc",
   "metadata": {},
   "source": [
    "## Importing Pandas, Numpy, MatplotLib, Seaborn library"
   ]
  },
  {
   "cell_type": "code",
   "execution_count": 8,
   "id": "0b640014-c24c-47a4-a140-2079f0892cca",
   "metadata": {},
   "outputs": [],
   "source": [
    "import pandas as pd\n",
    "import numpy as np\n",
    "import matplotlib\n",
    "%matplotlib inline\n",
    "import seaborn as sns"
   ]
  },
  {
   "cell_type": "markdown",
   "id": "55048b07-b724-4a52-980b-4f4430230a41",
   "metadata": {},
   "source": [
    "## Import the CSV dataset as Pandas DataFrame"
   ]
  },
  {
   "cell_type": "code",
   "execution_count": null,
   "id": "8118143a-4ca8-41cd-86e3-548176dd6b85",
   "metadata": {},
   "outputs": [],
   "source": [
    "data = pd.read_csv(\"notebook/data/stud.csv\")"
   ]
  },
  {
   "cell_type": "markdown",
   "id": "95554dca-7da3-4a1e-8987-75ecabbf1f58",
   "metadata": {},
   "source": [
    "## Displaying the first 5 records"
   ]
  },
  {
   "cell_type": "code",
   "execution_count": 7,
   "id": "55b71f21-d08c-4c0a-bd39-7f03cff95e6a",
   "metadata": {},
   "outputs": [
    {
     "data": {
      "text/html": [
       "<div>\n",
       "<style scoped>\n",
       "    .dataframe tbody tr th:only-of-type {\n",
       "        vertical-align: middle;\n",
       "    }\n",
       "\n",
       "    .dataframe tbody tr th {\n",
       "        vertical-align: top;\n",
       "    }\n",
       "\n",
       "    .dataframe thead th {\n",
       "        text-align: right;\n",
       "    }\n",
       "</style>\n",
       "<table border=\"1\" class=\"dataframe\">\n",
       "  <thead>\n",
       "    <tr style=\"text-align: right;\">\n",
       "      <th></th>\n",
       "      <th>gender</th>\n",
       "      <th>race_ethnicity</th>\n",
       "      <th>parental_level_of_education</th>\n",
       "      <th>lunch</th>\n",
       "      <th>test_preparation_course</th>\n",
       "      <th>math_score</th>\n",
       "      <th>reading_score</th>\n",
       "      <th>writing_score</th>\n",
       "    </tr>\n",
       "  </thead>\n",
       "  <tbody>\n",
       "    <tr>\n",
       "      <th>0</th>\n",
       "      <td>female</td>\n",
       "      <td>group B</td>\n",
       "      <td>bachelor's degree</td>\n",
       "      <td>standard</td>\n",
       "      <td>none</td>\n",
       "      <td>72</td>\n",
       "      <td>72</td>\n",
       "      <td>74</td>\n",
       "    </tr>\n",
       "    <tr>\n",
       "      <th>1</th>\n",
       "      <td>female</td>\n",
       "      <td>group C</td>\n",
       "      <td>some college</td>\n",
       "      <td>standard</td>\n",
       "      <td>completed</td>\n",
       "      <td>69</td>\n",
       "      <td>90</td>\n",
       "      <td>88</td>\n",
       "    </tr>\n",
       "    <tr>\n",
       "      <th>2</th>\n",
       "      <td>female</td>\n",
       "      <td>group B</td>\n",
       "      <td>master's degree</td>\n",
       "      <td>standard</td>\n",
       "      <td>none</td>\n",
       "      <td>90</td>\n",
       "      <td>95</td>\n",
       "      <td>93</td>\n",
       "    </tr>\n",
       "    <tr>\n",
       "      <th>3</th>\n",
       "      <td>male</td>\n",
       "      <td>group A</td>\n",
       "      <td>associate's degree</td>\n",
       "      <td>free/reduced</td>\n",
       "      <td>none</td>\n",
       "      <td>47</td>\n",
       "      <td>57</td>\n",
       "      <td>44</td>\n",
       "    </tr>\n",
       "    <tr>\n",
       "      <th>4</th>\n",
       "      <td>male</td>\n",
       "      <td>group C</td>\n",
       "      <td>some college</td>\n",
       "      <td>standard</td>\n",
       "      <td>none</td>\n",
       "      <td>76</td>\n",
       "      <td>78</td>\n",
       "      <td>75</td>\n",
       "    </tr>\n",
       "  </tbody>\n",
       "</table>\n",
       "</div>"
      ],
      "text/plain": [
       "   gender race_ethnicity parental_level_of_education         lunch  \\\n",
       "0  female        group B           bachelor's degree      standard   \n",
       "1  female        group C                some college      standard   \n",
       "2  female        group B             master's degree      standard   \n",
       "3    male        group A          associate's degree  free/reduced   \n",
       "4    male        group C                some college      standard   \n",
       "\n",
       "  test_preparation_course  math_score  reading_score  writing_score  \n",
       "0                    none          72             72             74  \n",
       "1               completed          69             90             88  \n",
       "2                    none          90             95             93  \n",
       "3                    none          47             57             44  \n",
       "4                    none          76             78             75  "
      ]
     },
     "execution_count": 7,
     "metadata": {},
     "output_type": "execute_result"
    }
   ],
   "source": [
    "data.head()"
   ]
  },
  {
   "cell_type": "markdown",
   "id": "5149f57b-2ffb-4b48-bea0-2917ea3a9449",
   "metadata": {},
   "source": [
    "## Shape of the dataset"
   ]
  },
  {
   "cell_type": "code",
   "execution_count": 11,
   "id": "39c63120-a6f0-4260-a04c-92832d19d4e5",
   "metadata": {},
   "outputs": [
    {
     "data": {
      "text/plain": [
       "(1000, 8)"
      ]
     },
     "execution_count": 11,
     "metadata": {},
     "output_type": "execute_result"
    }
   ],
   "source": [
    "data.shape"
   ]
  },
  {
   "cell_type": "markdown",
   "id": "674c9aae-04d1-4088-8738-80cbae56b465",
   "metadata": {},
   "source": [
    "## DATASET INFORMATION\n",
    "\n",
    "* Gender: Male/Female\n",
    "* Race/Ethinicity: Ethinicity of Students -> Group A, B, C, D, E\n",
    "* Parental Level Of Education: Parent's education level or degree -> Bachelor's degree, some college, master's degree, associate degree, high school, some high school\n",
    "* Lunch: standard"
   ]
  },
  {
   "cell_type": "code",
   "execution_count": 12,
   "id": "c190efe3-cfcf-45bf-af7d-a2b4955cc2a0",
   "metadata": {},
   "outputs": [
    {
     "data": {
      "text/plain": [
       "gender                          2\n",
       "race_ethnicity                  5\n",
       "parental_level_of_education     6\n",
       "lunch                           2\n",
       "test_preparation_course         2\n",
       "math_score                     81\n",
       "reading_score                  72\n",
       "writing_score                  77\n",
       "dtype: int64"
      ]
     },
     "execution_count": 12,
     "metadata": {},
     "output_type": "execute_result"
    }
   ],
   "source": [
    "data.nunique()"
   ]
  },
  {
   "cell_type": "code",
   "execution_count": 15,
   "id": "033297fa-352c-486c-8302-b4672c3243c8",
   "metadata": {},
   "outputs": [
    {
     "data": {
      "text/plain": [
       "array(['standard', 'free/reduced'], dtype=object)"
      ]
     },
     "execution_count": 15,
     "metadata": {},
     "output_type": "execute_result"
    }
   ],
   "source": [
    "data.lunch.unique()"
   ]
  }
 ],
 "metadata": {
  "kernelspec": {
   "display_name": "Python 3 (ipykernel)",
   "language": "python",
   "name": "python3"
  },
  "language_info": {
   "codemirror_mode": {
    "name": "ipython",
    "version": 3
   },
   "file_extension": ".py",
   "mimetype": "text/x-python",
   "name": "python",
   "nbconvert_exporter": "python",
   "pygments_lexer": "ipython3",
   "version": "3.8.0"
  }
 },
 "nbformat": 4,
 "nbformat_minor": 5
}
