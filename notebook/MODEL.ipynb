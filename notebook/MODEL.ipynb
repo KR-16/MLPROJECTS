{
 "cells": [
  {
   "cell_type": "markdown",
   "id": "95fcd397-18c0-42cd-9029-b7103b0c96a9",
   "metadata": {},
   "source": [
    "### IMPORT PACKAGES"
   ]
  },
  {
   "cell_type": "code",
   "execution_count": 16,
   "id": "ca875336-ea1a-4f52-a321-058d160a4125",
   "metadata": {},
   "outputs": [],
   "source": [
    "import numpy as np\n",
    "import pandas as pd\n",
    "import matplotlib.pyplot as plt\n",
    "import seaborn as sns\n",
    "from sklearn.metrics import mean_squared_error, r2_score, mean_absolute_error\n",
    "from sklearn.neighbors import KNeighborsRegressor\n",
    "from sklearn.tree import DecisionTreeRegressor\n",
    "from sklearn.ensemble import RandomForestRegressor, AdaBoostRegressor\n",
    "from sklearn.svm import SVR\n",
    "from sklearn.linear_model import LinearRegression, Ridge, Lasso\n",
    "from sklearn.model_selection import RandomizedSearchCV, train_test_split\n",
    "from catboost import CatBoostRegressor\n",
    "from sklearn.preprocessing import OneHotEncoder, StandardScaler\n",
    "from sklearn.compose import ColumnTransformer\n",
    "# from xgboost import XGBRegressor\n",
    "import warnings"
   ]
  },
  {
   "cell_type": "markdown",
   "id": "3a816fa6-ecbf-4540-b3e6-3aed98144797",
   "metadata": {},
   "source": [
    "### READ DATASET"
   ]
  },
  {
   "cell_type": "code",
   "execution_count": 6,
   "id": "5b798fb9-8922-46dc-b9c1-0a79b0ede83b",
   "metadata": {},
   "outputs": [],
   "source": [
    "data = pd.read_csv(\"data/stud.csv\")"
   ]
  },
  {
   "cell_type": "code",
   "execution_count": 7,
   "id": "0766b7ab-9b0f-458f-b225-1ce5c3d7070a",
   "metadata": {},
   "outputs": [
    {
     "data": {
      "text/html": [
       "<div>\n",
       "<style scoped>\n",
       "    .dataframe tbody tr th:only-of-type {\n",
       "        vertical-align: middle;\n",
       "    }\n",
       "\n",
       "    .dataframe tbody tr th {\n",
       "        vertical-align: top;\n",
       "    }\n",
       "\n",
       "    .dataframe thead th {\n",
       "        text-align: right;\n",
       "    }\n",
       "</style>\n",
       "<table border=\"1\" class=\"dataframe\">\n",
       "  <thead>\n",
       "    <tr style=\"text-align: right;\">\n",
       "      <th></th>\n",
       "      <th>gender</th>\n",
       "      <th>race_ethnicity</th>\n",
       "      <th>parental_level_of_education</th>\n",
       "      <th>lunch</th>\n",
       "      <th>test_preparation_course</th>\n",
       "      <th>math_score</th>\n",
       "      <th>reading_score</th>\n",
       "      <th>writing_score</th>\n",
       "    </tr>\n",
       "  </thead>\n",
       "  <tbody>\n",
       "    <tr>\n",
       "      <th>0</th>\n",
       "      <td>female</td>\n",
       "      <td>group B</td>\n",
       "      <td>bachelor's degree</td>\n",
       "      <td>standard</td>\n",
       "      <td>none</td>\n",
       "      <td>72</td>\n",
       "      <td>72</td>\n",
       "      <td>74</td>\n",
       "    </tr>\n",
       "    <tr>\n",
       "      <th>1</th>\n",
       "      <td>female</td>\n",
       "      <td>group C</td>\n",
       "      <td>some college</td>\n",
       "      <td>standard</td>\n",
       "      <td>completed</td>\n",
       "      <td>69</td>\n",
       "      <td>90</td>\n",
       "      <td>88</td>\n",
       "    </tr>\n",
       "    <tr>\n",
       "      <th>2</th>\n",
       "      <td>female</td>\n",
       "      <td>group B</td>\n",
       "      <td>master's degree</td>\n",
       "      <td>standard</td>\n",
       "      <td>none</td>\n",
       "      <td>90</td>\n",
       "      <td>95</td>\n",
       "      <td>93</td>\n",
       "    </tr>\n",
       "    <tr>\n",
       "      <th>3</th>\n",
       "      <td>male</td>\n",
       "      <td>group A</td>\n",
       "      <td>associate's degree</td>\n",
       "      <td>free/reduced</td>\n",
       "      <td>none</td>\n",
       "      <td>47</td>\n",
       "      <td>57</td>\n",
       "      <td>44</td>\n",
       "    </tr>\n",
       "    <tr>\n",
       "      <th>4</th>\n",
       "      <td>male</td>\n",
       "      <td>group C</td>\n",
       "      <td>some college</td>\n",
       "      <td>standard</td>\n",
       "      <td>none</td>\n",
       "      <td>76</td>\n",
       "      <td>78</td>\n",
       "      <td>75</td>\n",
       "    </tr>\n",
       "  </tbody>\n",
       "</table>\n",
       "</div>"
      ],
      "text/plain": [
       "   gender race_ethnicity parental_level_of_education         lunch  \\\n",
       "0  female        group B           bachelor's degree      standard   \n",
       "1  female        group C                some college      standard   \n",
       "2  female        group B             master's degree      standard   \n",
       "3    male        group A          associate's degree  free/reduced   \n",
       "4    male        group C                some college      standard   \n",
       "\n",
       "  test_preparation_course  math_score  reading_score  writing_score  \n",
       "0                    none          72             72             74  \n",
       "1               completed          69             90             88  \n",
       "2                    none          90             95             93  \n",
       "3                    none          47             57             44  \n",
       "4                    none          76             78             75  "
      ]
     },
     "execution_count": 7,
     "metadata": {},
     "output_type": "execute_result"
    }
   ],
   "source": [
    "data.head()"
   ]
  },
  {
   "cell_type": "markdown",
   "id": "fedb3474-25eb-463a-9c54-4db200a9addc",
   "metadata": {},
   "source": [
    "### In this case we will be predicting the math_score"
   ]
  },
  {
   "cell_type": "code",
   "execution_count": 8,
   "id": "71d41ffd-2849-4412-8b86-e2d06c9017cb",
   "metadata": {},
   "outputs": [],
   "source": [
    "X = data.drop(columns=[\"math_score\"], axis = 1)"
   ]
  },
  {
   "cell_type": "code",
   "execution_count": 9,
   "id": "bab6ffd9-3f0a-49bc-954f-01f997e573d2",
   "metadata": {},
   "outputs": [
    {
     "data": {
      "text/html": [
       "<div>\n",
       "<style scoped>\n",
       "    .dataframe tbody tr th:only-of-type {\n",
       "        vertical-align: middle;\n",
       "    }\n",
       "\n",
       "    .dataframe tbody tr th {\n",
       "        vertical-align: top;\n",
       "    }\n",
       "\n",
       "    .dataframe thead th {\n",
       "        text-align: right;\n",
       "    }\n",
       "</style>\n",
       "<table border=\"1\" class=\"dataframe\">\n",
       "  <thead>\n",
       "    <tr style=\"text-align: right;\">\n",
       "      <th></th>\n",
       "      <th>gender</th>\n",
       "      <th>race_ethnicity</th>\n",
       "      <th>parental_level_of_education</th>\n",
       "      <th>lunch</th>\n",
       "      <th>test_preparation_course</th>\n",
       "      <th>reading_score</th>\n",
       "      <th>writing_score</th>\n",
       "    </tr>\n",
       "  </thead>\n",
       "  <tbody>\n",
       "    <tr>\n",
       "      <th>0</th>\n",
       "      <td>female</td>\n",
       "      <td>group B</td>\n",
       "      <td>bachelor's degree</td>\n",
       "      <td>standard</td>\n",
       "      <td>none</td>\n",
       "      <td>72</td>\n",
       "      <td>74</td>\n",
       "    </tr>\n",
       "    <tr>\n",
       "      <th>1</th>\n",
       "      <td>female</td>\n",
       "      <td>group C</td>\n",
       "      <td>some college</td>\n",
       "      <td>standard</td>\n",
       "      <td>completed</td>\n",
       "      <td>90</td>\n",
       "      <td>88</td>\n",
       "    </tr>\n",
       "    <tr>\n",
       "      <th>2</th>\n",
       "      <td>female</td>\n",
       "      <td>group B</td>\n",
       "      <td>master's degree</td>\n",
       "      <td>standard</td>\n",
       "      <td>none</td>\n",
       "      <td>95</td>\n",
       "      <td>93</td>\n",
       "    </tr>\n",
       "    <tr>\n",
       "      <th>3</th>\n",
       "      <td>male</td>\n",
       "      <td>group A</td>\n",
       "      <td>associate's degree</td>\n",
       "      <td>free/reduced</td>\n",
       "      <td>none</td>\n",
       "      <td>57</td>\n",
       "      <td>44</td>\n",
       "    </tr>\n",
       "    <tr>\n",
       "      <th>4</th>\n",
       "      <td>male</td>\n",
       "      <td>group C</td>\n",
       "      <td>some college</td>\n",
       "      <td>standard</td>\n",
       "      <td>none</td>\n",
       "      <td>78</td>\n",
       "      <td>75</td>\n",
       "    </tr>\n",
       "  </tbody>\n",
       "</table>\n",
       "</div>"
      ],
      "text/plain": [
       "   gender race_ethnicity parental_level_of_education         lunch  \\\n",
       "0  female        group B           bachelor's degree      standard   \n",
       "1  female        group C                some college      standard   \n",
       "2  female        group B             master's degree      standard   \n",
       "3    male        group A          associate's degree  free/reduced   \n",
       "4    male        group C                some college      standard   \n",
       "\n",
       "  test_preparation_course  reading_score  writing_score  \n",
       "0                    none             72             74  \n",
       "1               completed             90             88  \n",
       "2                    none             95             93  \n",
       "3                    none             57             44  \n",
       "4                    none             78             75  "
      ]
     },
     "execution_count": 9,
     "metadata": {},
     "output_type": "execute_result"
    }
   ],
   "source": [
    "X.head()"
   ]
  },
  {
   "cell_type": "code",
   "execution_count": 10,
   "id": "6495c69b-b604-4b31-8fe3-73000fa58346",
   "metadata": {},
   "outputs": [],
   "source": [
    "y = data[\"math_score\"]"
   ]
  },
  {
   "cell_type": "code",
   "execution_count": 11,
   "id": "5d994721-e824-4c5d-a1e5-c2f26fbc16ab",
   "metadata": {},
   "outputs": [
    {
     "data": {
      "text/plain": [
       "0      72\n",
       "1      69\n",
       "2      90\n",
       "3      47\n",
       "4      76\n",
       "       ..\n",
       "995    88\n",
       "996    62\n",
       "997    59\n",
       "998    68\n",
       "999    77\n",
       "Name: math_score, Length: 1000, dtype: int64"
      ]
     },
     "execution_count": 11,
     "metadata": {},
     "output_type": "execute_result"
    }
   ],
   "source": [
    "y"
   ]
  },
  {
   "cell_type": "code",
   "execution_count": 13,
   "id": "9d4c20a1-3ffb-443c-97ae-57c9be7119d8",
   "metadata": {},
   "outputs": [
    {
     "name": "stdout",
     "output_type": "stream",
     "text": [
      "Categores in gender Variable:  ['female' 'male']\n",
      "Categores in race_ethnicity Variable:  ['group B' 'group C' 'group A' 'group D' 'group E']\n",
      "Categores in parental_level_of_education Variable:  [\"bachelor's degree\" 'some college' \"master's degree\" \"associate's degree\"\n",
      " 'high school' 'some high school']\n",
      "Categores in lunch Variable:  ['standard' 'free/reduced']\n",
      "Categores in test_preparation_course Variable:  ['none' 'completed']\n"
     ]
    }
   ],
   "source": [
    "for column in data.columns:\n",
    "    if data[column].dtype == \"O\":\n",
    "        print(f\"Categores in {column} Variable: \", end= ' ')\n",
    "        print(f\"{data[column].unique()}\")"
   ]
  },
  {
   "cell_type": "markdown",
   "id": "49d10e7c-80fd-476f-bbbb-9396f5e49c90",
   "metadata": {},
   "source": [
    "### Create Column transformer with 3 types of transformer\n",
    "### Now we will be creating pipeline - for categorical features we need to perform one-hot encoding -> standard transform => it should be one after the other - in the form of pipeline"
   ]
  },
  {
   "cell_type": "code",
   "execution_count": 21,
   "id": "4bc434e5-b459-475e-8bec-15ce41584065",
   "metadata": {},
   "outputs": [],
   "source": [
    "numerical_features = X.select_dtypes(exclude=\"object\").columns\n",
    "categorical_features = X.select_dtypes(include=\"object\").columns\n",
    "\n",
    "numerical_transformer = StandardScaler()\n",
    "categorical_transformer = OneHotEncoder()\n",
    "\n",
    "#Column Transformer is responsible for transforming columns\n",
    "preprocessor = ColumnTransformer(\n",
    "    [\n",
    "        (\"OneHotEncoder\", categorical_transformer, categorical_features),\n",
    "        (\"StandardScaler\", numerical_transformer, numerical_features),\n",
    "    ]\n",
    ")"
   ]
  },
  {
   "cell_type": "code",
   "execution_count": 22,
   "id": "d0d2f7d4-494c-468e-8b11-6dfe849d06cd",
   "metadata": {},
   "outputs": [],
   "source": [
    "X = preprocessor.fit_transform(X)"
   ]
  },
  {
   "cell_type": "code",
   "execution_count": 27,
   "id": "a4577e0a-d9ca-494d-95a1-5b2e9c1cb2a5",
   "metadata": {},
   "outputs": [
    {
     "data": {
      "text/plain": [
       "(1000, 19)"
      ]
     },
     "execution_count": 27,
     "metadata": {},
     "output_type": "execute_result"
    }
   ],
   "source": [
    "X.shape"
   ]
  },
  {
   "cell_type": "markdown",
   "id": "202aff70-4a6b-4c91-b0f0-4c3d7d4588d9",
   "metadata": {},
   "source": [
    "#### 19 columns -> each catgory from each column and 2 numerical columns"
   ]
  },
  {
   "cell_type": "code",
   "execution_count": 28,
   "id": "1a96b9ab-2e5b-493f-b163-7acb48eb037e",
   "metadata": {},
   "outputs": [],
   "source": [
    "X_train, X_test, y_train, y_test = train_test_split(X,y, test_size=0.2, random_state = 42)"
   ]
  },
  {
   "cell_type": "code",
   "execution_count": 30,
   "id": "5fa9d3a9-e801-42b8-b734-96174e60958c",
   "metadata": {},
   "outputs": [
    {
     "data": {
      "text/plain": [
       "((800, 19), (200, 19), (800,), (200,))"
      ]
     },
     "execution_count": 30,
     "metadata": {},
     "output_type": "execute_result"
    }
   ],
   "source": [
    "X_train.shape, X_test.shape, y_train.shape, y_test.shape"
   ]
  },
  {
   "cell_type": "markdown",
   "id": "c0819b89-7ea8-4d84-b3e4-d34cdc0a0ca7",
   "metadata": {},
   "source": [
    "### Create an Evaluate function to give metrics after model training"
   ]
  },
  {
   "cell_type": "code",
   "execution_count": 40,
   "id": "2c17d611-c0a1-47ac-a17e-9e591677e743",
   "metadata": {},
   "outputs": [],
   "source": [
    "def evaluate_model(actual, predicted):\n",
    "    mae = mean_absolute_error(actual, predicted)\n",
    "    mse = mean_squared_error(actual, predicted)\n",
    "    rmse = np.sqrt(mean_squared_error(actual,  predicted))\n",
    "    r2 = r2_score(actual, predicted)\n",
    "    return mae, rmse, r2"
   ]
  },
  {
   "cell_type": "code",
   "execution_count": 46,
   "id": "4b0dbb89-8059-4211-8e43-aaa42fd41d59",
   "metadata": {},
   "outputs": [
    {
     "name": "stdout",
     "output_type": "stream",
     "text": [
      "Linear Regression\n",
      "Training Set Model Performance\n",
      "\t Root Mean Square Error: 5.3293\n",
      "\t Mean Absolute Error: 4.2715\n",
      "\t R2 Score: 0.8740\n",
      "----------------------------------------\n",
      "Testing Set Model Performance\n",
      "\t Root Mean Square Error: 5.4252\n",
      "\t Mean Absolute Error: 4.2222\n",
      "\t R2 Score: 0.8790\n",
      "\n",
      "\n",
      "****************************************\n",
      "\n",
      "\n",
      "Lasso\n",
      "Training Set Model Performance\n",
      "\t Root Mean Square Error: 6.5938\n",
      "\t Mean Absolute Error: 5.2063\n",
      "\t R2 Score: 0.8071\n",
      "----------------------------------------\n",
      "Testing Set Model Performance\n",
      "\t Root Mean Square Error: 6.5197\n",
      "\t Mean Absolute Error: 5.1579\n",
      "\t R2 Score: 0.8253\n",
      "\n",
      "\n",
      "****************************************\n",
      "\n",
      "\n",
      "Ridge\n",
      "Training Set Model Performance\n",
      "\t Root Mean Square Error: 5.3233\n",
      "\t Mean Absolute Error: 4.2650\n",
      "\t R2 Score: 0.8743\n",
      "----------------------------------------\n",
      "Testing Set Model Performance\n",
      "\t Root Mean Square Error: 5.3904\n",
      "\t Mean Absolute Error: 4.2111\n",
      "\t R2 Score: 0.8806\n",
      "\n",
      "\n",
      "****************************************\n",
      "\n",
      "\n",
      "K-Neighbors Regressor\n",
      "Training Set Model Performance\n",
      "\t Root Mean Square Error: 5.7079\n",
      "\t Mean Absolute Error: 4.5168\n",
      "\t R2 Score: 0.8555\n",
      "----------------------------------------\n",
      "Testing Set Model Performance\n",
      "\t Root Mean Square Error: 7.2530\n",
      "\t Mean Absolute Error: 5.6210\n",
      "\t R2 Score: 0.7838\n",
      "\n",
      "\n",
      "****************************************\n",
      "\n",
      "\n",
      "Decision Trees\n",
      "Training Set Model Performance\n",
      "\t Root Mean Square Error: 0.2795\n",
      "\t Mean Absolute Error: 0.0187\n",
      "\t R2 Score: 0.9997\n",
      "----------------------------------------\n",
      "Testing Set Model Performance\n",
      "\t Root Mean Square Error: 8.0041\n",
      "\t Mean Absolute Error: 6.3350\n",
      "\t R2 Score: 0.7367\n",
      "\n",
      "\n",
      "****************************************\n",
      "\n",
      "\n",
      "RandomForest Regressor\n",
      "Training Set Model Performance\n",
      "\t Root Mean Square Error: 2.2949\n",
      "\t Mean Absolute Error: 1.8241\n",
      "\t R2 Score: 0.9766\n",
      "----------------------------------------\n",
      "Testing Set Model Performance\n",
      "\t Root Mean Square Error: 5.9893\n",
      "\t Mean Absolute Error: 4.6474\n",
      "\t R2 Score: 0.8526\n",
      "\n",
      "\n",
      "****************************************\n",
      "\n",
      "\n",
      "CatBoosting Regressor\n",
      "Training Set Model Performance\n",
      "\t Root Mean Square Error: 3.0427\n",
      "\t Mean Absolute Error: 2.4054\n",
      "\t R2 Score: 0.9589\n",
      "----------------------------------------\n",
      "Testing Set Model Performance\n",
      "\t Root Mean Square Error: 6.0086\n",
      "\t Mean Absolute Error: 4.6125\n",
      "\t R2 Score: 0.8516\n",
      "\n",
      "\n",
      "****************************************\n",
      "\n",
      "\n",
      "AdaBoost Regressor\n",
      "Training Set Model Performance\n",
      "\t Root Mean Square Error: 5.7676\n",
      "\t Mean Absolute Error: 4.7225\n",
      "\t R2 Score: 0.8524\n",
      "----------------------------------------\n",
      "Testing Set Model Performance\n",
      "\t Root Mean Square Error: 6.0731\n",
      "\t Mean Absolute Error: 4.7300\n",
      "\t R2 Score: 0.8484\n",
      "\n",
      "\n",
      "****************************************\n",
      "\n",
      "\n"
     ]
    }
   ],
   "source": [
    "models = {\n",
    "    \"Linear Regression\": LinearRegression(),\n",
    "    \"Lasso\": Lasso(),\n",
    "    \"Ridge\": Ridge(),\n",
    "    \"K-Neighbors Regressor\": KNeighborsRegressor(),\n",
    "    \"Decision Trees\": DecisionTreeRegressor(),\n",
    "    \"RandomForest Regressor\": RandomForestRegressor(),\n",
    "    \"CatBoosting Regressor\": CatBoostRegressor(verbose = False),\n",
    "    \"AdaBoost Regressor\": AdaBoostRegressor()\n",
    "}\n",
    "\n",
    "model_list = list()\n",
    "r2_list = list()\n",
    "\n",
    "for m in range(len(list(models))):\n",
    "    model = list(models.values())[m]\n",
    "    model.fit(X_train, y_train)\n",
    "\n",
    "    y_train_prediction = model.predict(X_train)\n",
    "    y_test_prediction = model.predict(X_test)\n",
    "\n",
    "    model_train_mae, model_train_rmse, model_train_r2_score = evaluate_model(y_train, y_train_prediction)\n",
    "    model_test_mae, model_test_rmse, model_test_r2_score = evaluate_model(y_test, y_test_prediction)\n",
    "\n",
    "    print(list(models.keys())[m])\n",
    "    model_list.append(list(models.keys())[m])\n",
    "\n",
    "    print(\"Training Set Model Performance\")\n",
    "    print(\"\\t Root Mean Square Error: {:.4f}\".format(model_train_rmse))\n",
    "    print(\"\\t Mean Absolute Error: {:.4f}\".format(model_train_mae))\n",
    "    print(\"\\t R2 Score: {:.4f}\".format(model_train_r2_score))\n",
    "\n",
    "    print(\"-\"*40)\n",
    "\n",
    "    print(\"Testing Set Model Performance\")\n",
    "    print(\"\\t Root Mean Square Error: {:.4f}\".format(model_test_rmse))\n",
    "    print(\"\\t Mean Absolute Error: {:.4f}\".format(model_test_mae))\n",
    "    print(\"\\t R2 Score: {:.4f}\".format(model_test_r2_score))\n",
    "    r2_list.append(model_test_r2_score)\n",
    "\n",
    "    print(\"\\n\")\n",
    "    print(\"*\"*40)\n",
    "    print(\"\\n\")"
   ]
  },
  {
   "cell_type": "markdown",
   "id": "65d772d2-f797-4025-a4d9-c196c5436946",
   "metadata": {},
   "source": [
    "### RESULTS"
   ]
  },
  {
   "cell_type": "code",
   "execution_count": 47,
   "id": "4ed9c839-befc-4e8c-9310-80de1d7ff5d1",
   "metadata": {},
   "outputs": [
    {
     "data": {
      "text/html": [
       "<div>\n",
       "<style scoped>\n",
       "    .dataframe tbody tr th:only-of-type {\n",
       "        vertical-align: middle;\n",
       "    }\n",
       "\n",
       "    .dataframe tbody tr th {\n",
       "        vertical-align: top;\n",
       "    }\n",
       "\n",
       "    .dataframe thead th {\n",
       "        text-align: right;\n",
       "    }\n",
       "</style>\n",
       "<table border=\"1\" class=\"dataframe\">\n",
       "  <thead>\n",
       "    <tr style=\"text-align: right;\">\n",
       "      <th></th>\n",
       "      <th>Mode Names</th>\n",
       "      <th>R2 Score</th>\n",
       "    </tr>\n",
       "  </thead>\n",
       "  <tbody>\n",
       "    <tr>\n",
       "      <th>2</th>\n",
       "      <td>Ridge</td>\n",
       "      <td>0.880593</td>\n",
       "    </tr>\n",
       "    <tr>\n",
       "      <th>0</th>\n",
       "      <td>Linear Regression</td>\n",
       "      <td>0.879046</td>\n",
       "    </tr>\n",
       "    <tr>\n",
       "      <th>5</th>\n",
       "      <td>RandomForest Regressor</td>\n",
       "      <td>0.852587</td>\n",
       "    </tr>\n",
       "    <tr>\n",
       "      <th>6</th>\n",
       "      <td>CatBoosting Regressor</td>\n",
       "      <td>0.851632</td>\n",
       "    </tr>\n",
       "    <tr>\n",
       "      <th>7</th>\n",
       "      <td>AdaBoost Regressor</td>\n",
       "      <td>0.848432</td>\n",
       "    </tr>\n",
       "    <tr>\n",
       "      <th>1</th>\n",
       "      <td>Lasso</td>\n",
       "      <td>0.825320</td>\n",
       "    </tr>\n",
       "    <tr>\n",
       "      <th>3</th>\n",
       "      <td>K-Neighbors Regressor</td>\n",
       "      <td>0.783813</td>\n",
       "    </tr>\n",
       "    <tr>\n",
       "      <th>4</th>\n",
       "      <td>Decision Trees</td>\n",
       "      <td>0.736725</td>\n",
       "    </tr>\n",
       "  </tbody>\n",
       "</table>\n",
       "</div>"
      ],
      "text/plain": [
       "               Mode Names  R2 Score\n",
       "2                   Ridge  0.880593\n",
       "0       Linear Regression  0.879046\n",
       "5  RandomForest Regressor  0.852587\n",
       "6   CatBoosting Regressor  0.851632\n",
       "7      AdaBoost Regressor  0.848432\n",
       "1                   Lasso  0.825320\n",
       "3   K-Neighbors Regressor  0.783813\n",
       "4          Decision Trees  0.736725"
      ]
     },
     "execution_count": 47,
     "metadata": {},
     "output_type": "execute_result"
    }
   ],
   "source": [
    "pd.DataFrame(list(zip(model_list, r2_list)), columns = [\"Mode Names\", \"R2 Score\"]).sort_values(by=[\"R2 Score\"],ascending=False)"
   ]
  },
  {
   "cell_type": "markdown",
   "id": "75d1afed-0d45-4a8b-95f1-a691f1515b4f",
   "metadata": {},
   "source": [
    "### RIDGE REGRESSION"
   ]
  },
  {
   "cell_type": "code",
   "execution_count": 49,
   "id": "aef911fb-c831-40e7-bac2-e3965d27ec9a",
   "metadata": {},
   "outputs": [
    {
     "name": "stdout",
     "output_type": "stream",
     "text": [
      "Accuracy of the Model = 88.06\n"
     ]
    }
   ],
   "source": [
    "ridge_model = Ridge(fit_intercept=True)\n",
    "ridge_model = ridge_model.fit(X_train, y_train)\n",
    "y_predict = ridge_model.predict(X_test)\n",
    "score = r2_score(y_test, y_predict)*100\n",
    "print(\"Accuracy of the Model = %.2f\" %score)"
   ]
  },
  {
   "cell_type": "markdown",
   "id": "69488e5e-11bd-429c-adc1-aa5f8112dd29",
   "metadata": {},
   "source": [
    "### PLOT Y_PREDICT and Y_TEST"
   ]
  },
  {
   "cell_type": "code",
   "execution_count": 50,
   "id": "bc6210c7-5af2-49aa-9ede-a2ce7c0513af",
   "metadata": {},
   "outputs": [
    {
     "data": {
      "text/plain": [
       "Text(0, 0.5, 'Predicted')"
      ]
     },
     "execution_count": 50,
     "metadata": {},
     "output_type": "execute_result"
    },
    {
     "data": {
      "image/png": "[encoded data removed]",
      "text/plain": [
       "<Figure size 640x480 with 1 Axes>"
      ]
     },
     "metadata": {},
     "output_type": "display_data"
    }
   ],
   "source": [
    "plt.scatter(y_test, y_predict)\n",
    "plt.xlabel(\"Actual/True\")\n",
    "plt.ylabel(\"Predicted\")"
   ]
  },
  {
   "cell_type": "code",
   "execution_count": 54,
   "id": "9762ce86-b589-4fcf-8241-a5bebc26134f",
   "metadata": {},
   "outputs": [
    {
     "data": {
      "text/plain": [
       "<Axes: xlabel='math_score'>"
      ]
     },
     "execution_count": 54,
     "metadata": {},
     "output_type": "execute_result"
    },
    {
     "data": {
      "image/png": "[encoded data removed]",
      "text/plain": [
       "<Figure size 640x480 with 1 Axes>"
      ]
     },
     "metadata": {},
     "output_type": "display_data"
    }
   ],
   "source": [
    "sns.regplot(x = y_test, y = y_predict, color = \"green\", ci = None)"
   ]
  },
  {
   "cell_type": "markdown",
   "id": "e8c9e440-5e5d-47c4-a075-11acf1950607",
   "metadata": {},
   "source": [
    "### Difference between Actual/True Value and Predicted Value"
   ]
  },
  {
   "cell_type": "code",
   "execution_count": 55,
   "id": "562ea176-6af2-4f94-a955-a87f1ff76d0b",
   "metadata": {},
   "outputs": [],
   "source": [
    "predicted_dataframe = pd.DataFrame({\"Actual/True Value\": y_test, \"Predicted Value\": y_predict, \"Difference\": y_test-y_predict})"
   ]
  },
  {
   "cell_type": "code",
   "execution_count": 56,
   "id": "c45f4d7f-1309-468e-8b99-788f4099df09",
   "metadata": {},
   "outputs": [
    {
     "data": {
      "text/html": [
       "<div>\n",
       "<style scoped>\n",
       "    .dataframe tbody tr th:only-of-type {\n",
       "        vertical-align: middle;\n",
       "    }\n",
       "\n",
       "    .dataframe tbody tr th {\n",
       "        vertical-align: top;\n",
       "    }\n",
       "\n",
       "    .dataframe thead th {\n",
       "        text-align: right;\n",
       "    }\n",
       "</style>\n",
       "<table border=\"1\" class=\"dataframe\">\n",
       "  <thead>\n",
       "    <tr style=\"text-align: right;\">\n",
       "      <th></th>\n",
       "      <th>Actual/True Value</th>\n",
       "      <th>Predicted Value</th>\n",
       "      <th>Difference</th>\n",
       "    </tr>\n",
       "  </thead>\n",
       "  <tbody>\n",
       "    <tr>\n",
       "      <th>521</th>\n",
       "      <td>91</td>\n",
       "      <td>76.398705</td>\n",
       "      <td>14.601295</td>\n",
       "    </tr>\n",
       "    <tr>\n",
       "      <th>737</th>\n",
       "      <td>53</td>\n",
       "      <td>58.842469</td>\n",
       "      <td>-5.842469</td>\n",
       "    </tr>\n",
       "    <tr>\n",
       "      <th>740</th>\n",
       "      <td>80</td>\n",
       "      <td>76.992129</td>\n",
       "      <td>3.007871</td>\n",
       "    </tr>\n",
       "    <tr>\n",
       "      <th>660</th>\n",
       "      <td>74</td>\n",
       "      <td>76.805898</td>\n",
       "      <td>-2.805898</td>\n",
       "    </tr>\n",
       "    <tr>\n",
       "      <th>411</th>\n",
       "      <td>84</td>\n",
       "      <td>87.615387</td>\n",
       "      <td>-3.615387</td>\n",
       "    </tr>\n",
       "    <tr>\n",
       "      <th>...</th>\n",
       "      <td>...</td>\n",
       "      <td>...</td>\n",
       "      <td>...</td>\n",
       "    </tr>\n",
       "    <tr>\n",
       "      <th>408</th>\n",
       "      <td>52</td>\n",
       "      <td>43.492293</td>\n",
       "      <td>8.507707</td>\n",
       "    </tr>\n",
       "    <tr>\n",
       "      <th>332</th>\n",
       "      <td>62</td>\n",
       "      <td>62.170763</td>\n",
       "      <td>-0.170763</td>\n",
       "    </tr>\n",
       "    <tr>\n",
       "      <th>208</th>\n",
       "      <td>74</td>\n",
       "      <td>67.910325</td>\n",
       "      <td>6.089675</td>\n",
       "    </tr>\n",
       "    <tr>\n",
       "      <th>613</th>\n",
       "      <td>65</td>\n",
       "      <td>67.061504</td>\n",
       "      <td>-2.061504</td>\n",
       "    </tr>\n",
       "    <tr>\n",
       "      <th>78</th>\n",
       "      <td>61</td>\n",
       "      <td>62.427189</td>\n",
       "      <td>-1.427189</td>\n",
       "    </tr>\n",
       "  </tbody>\n",
       "</table>\n",
       "<p>200 rows × 3 columns</p>\n",
       "</div>"
      ],
      "text/plain": [
       "     Actual/True Value  Predicted Value  Difference\n",
       "521                 91        76.398705   14.601295\n",
       "737                 53        58.842469   -5.842469\n",
       "740                 80        76.992129    3.007871\n",
       "660                 74        76.805898   -2.805898\n",
       "411                 84        87.615387   -3.615387\n",
       "..                 ...              ...         ...\n",
       "408                 52        43.492293    8.507707\n",
       "332                 62        62.170763   -0.170763\n",
       "208                 74        67.910325    6.089675\n",
       "613                 65        67.061504   -2.061504\n",
       "78                  61        62.427189   -1.427189\n",
       "\n",
       "[200 rows x 3 columns]"
      ]
     },
     "execution_count": 56,
     "metadata": {},
     "output_type": "execute_result"
    }
   ],
   "source": [
    "predicted_dataframe"
   ]
  }
 ],
 "metadata": {
  "kernelspec": {
   "display_name": "Python 3 (ipykernel)",
   "language": "python",
   "name": "python3"
  },
  "language_info": {
   "codemirror_mode": {
    "name": "ipython",
    "version": 3
   },
   "file_extension": ".py",
   "mimetype": "text/x-python",
   "name": "python",
   "nbconvert_exporter": "python",
   "pygments_lexer": "ipython3",
   "version": "3.8.0"
  }
 },
 "nbformat": 4,
 "nbformat_minor": 5
}
